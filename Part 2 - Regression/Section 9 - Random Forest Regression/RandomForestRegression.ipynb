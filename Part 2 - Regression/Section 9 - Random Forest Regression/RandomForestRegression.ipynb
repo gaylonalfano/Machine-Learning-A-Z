{
 "cells": [
  {
   "cell_type": "markdown",
   "metadata": {},
   "source": [
    "## Random Forest Intuition - Essentially a group/team of decision trees\n",
    "\n",
    "**Ensemble Learning**: Example models include Random Forest, Gradient Boosting, etc. EL is when you take multiple algorithms, or the same algorithm multiple times, and put them together to make something more powerful. These algorithms are more stable because any changes in your dataset could impact one tree, but won't impact a forest model. \n",
    "\n",
    "Ex. Counting the number of balloons in a net: Essentially you're averaging out across multiple guesses, so you'll more probable to get closer to the answer\n",
    "\n",
    "Steps:\n",
    "1. Pick at random K data points from the Training set.\n",
    "2. Build a decision tree associated to these K data points.\n",
    "3. Choose the number (Ntree) of trees you want to build and repeat steps 1 & 2. \n",
    "4. For a new data point, make each one of your Ntree trees predict the value of Y for the data point in question, and assign the new data point the average across **all** of the predicted Y values. Instead of getting one prediction, you're getting multiple (at least 500 trees is usually the default)."
   ]
  },
  {
   "cell_type": "markdown",
   "metadata": {},
   "source": [
    "## Detailed description of how Random Forest works\n",
    "\n",
    "Example: Take level = 4. 10 votes were made each tree. Each vote corresponds to a prediction of the level 4 salary made by each tree. Then the random forest takes the average of all the level 4 predictions (10 total), and this average is nothing else than the prediction of the level 4 salary made by the random forest itself. And so we get more steps because the whole range of levels is split into more intervals and that is because the random forest is calculating many different averages of its decision tree predictions in each of these intervals. \n",
    "\n",
    "**Important** to note: If we add more trees to our random forest, it does **not** mean that we get more steps. The more you add trees, the more the average of these votes will converge to some certain average (convergence). Perhaps though, the steps were better chosen so it could impact the prediction (with 10, y_pred = 167K, with 100, y_pred = 158K, with 300, y_pred = 160K!). Remember the hire said he made 160K."
   ]
  },
  {
   "cell_type": "code",
   "execution_count": 1,
   "metadata": {},
   "outputs": [],
   "source": [
    "# Importing the libraries\n",
    "import numpy as np\n",
    "import pandas as pd\n",
    "import matplotlib.pyplot as plt\n",
    "import os\n",
    "\n",
    "os.getcwd()\n",
    "os.chdir(\"/Users/gaylonalfano/Documents/Python/Machine Learning A-Z/Part 2 - Regression/Section 9 - Random Forest Regression\")"
   ]
  },
  {
   "cell_type": "code",
   "execution_count": 3,
   "metadata": {},
   "outputs": [],
   "source": [
    "# Importing the dataset\n",
    "# Handy tip: X must be a DF/Matrix, not a Series/Vector\n",
    "# Therefore use .iloc[:, 1:2] instead of [:, 1]\n",
    "dataset = pd.read_csv(\"Position_Salaries.csv\")\n",
    "X = dataset.iloc[:, 1:2].values\n",
    "y = dataset.iloc[:, -1].values"
   ]
  },
  {
   "cell_type": "code",
   "execution_count": 4,
   "metadata": {},
   "outputs": [
    {
     "data": {
      "text/plain": [
       "array([[ 1],\n",
       "       [ 2],\n",
       "       [ 3],\n",
       "       [ 4],\n",
       "       [ 5],\n",
       "       [ 6],\n",
       "       [ 7],\n",
       "       [ 8],\n",
       "       [ 9],\n",
       "       [10]])"
      ]
     },
     "execution_count": 4,
     "metadata": {},
     "output_type": "execute_result"
    }
   ],
   "source": [
    "X"
   ]
  },
  {
   "cell_type": "code",
   "execution_count": 5,
   "metadata": {},
   "outputs": [
    {
     "data": {
      "text/plain": [
       "array([  45000,   50000,   60000,   80000,  110000,  150000,  200000,\n",
       "        300000,  500000, 1000000])"
      ]
     },
     "execution_count": 5,
     "metadata": {},
     "output_type": "execute_result"
    }
   ],
   "source": [
    "y"
   ]
  },
  {
   "cell_type": "code",
   "execution_count": null,
   "metadata": {},
   "outputs": [],
   "source": [
    "# Splitting the dataset ino the Training set and Test set\n",
    "\"\"\"from sklearn.model_selection import train_test_split\n",
    "X_train, X_test, y_train, y_test = train_test_split(X, y, test_size = 0.2, random_state = 0)\"\"\"\n",
    "\n",
    "# Feature Scaling -- NOT needed this time\n",
    "# Polynomial regression just consists of adding PNR terms\n",
    "# into the MLR equation, so we will use the same LinearRegression\n",
    "# library that we used for SLR and MLR, which is the library\n",
    "# that does feature scaling itself, so not needed.\n",
    "# Ready to move on to the next step.\n",
    "\"\"\"from sklearn.preprocessing import StandardScaler\n",
    "sc_X = StandardScaler() \n",
    "X_train = sc_X.fit_transform(X_train) \n",
    "X_test = sc_X.transform(X_test)\n",
    "sc_y = StandardScaler()\n",
    "y_train = sc_y.fit_transform(y_train)\"\"\""
   ]
  },
  {
   "cell_type": "code",
   "execution_count": 13,
   "metadata": {},
   "outputs": [
    {
     "data": {
      "text/plain": [
       "RandomForestRegressor(bootstrap=True, criterion='mse', max_depth=None,\n",
       "           max_features='auto', max_leaf_nodes=None,\n",
       "           min_impurity_decrease=0.0, min_impurity_split=None,\n",
       "           min_samples_leaf=1, min_samples_split=2,\n",
       "           min_weight_fraction_leaf=0.0, n_estimators=300, n_jobs=1,\n",
       "           oob_score=False, random_state=0, verbose=0, warm_start=False)"
      ]
     },
     "execution_count": 13,
     "metadata": {},
     "output_type": "execute_result"
    }
   ],
   "source": [
    "# Fitting the Random Forest Regression model to the dataset\n",
    "# This template is for non-linear regression models\n",
    "# Therefore, will not create a LR object.\n",
    "# mse = Mean Squared Error - Sum of squared differences between prediction and actual results.\n",
    "from sklearn.ensemble import RandomForestRegressor\n",
    "regressor = RandomForestRegressor(n_estimators = 300, criterion = 'mse', random_state = 0)\n",
    "regressor.fit(X, y)"
   ]
  },
  {
   "cell_type": "code",
   "execution_count": 15,
   "metadata": {},
   "outputs": [],
   "source": [
    "# Predicting the Random Forest Regression results. Got rid of the LR objects (lin_reg, poly_reg, etc.)\n",
    "# With single Decision Tree and w/o FS, y_pred = 150k\n",
    "# With n_estimators = 10 and w/o FS, y_pred = 167K\n",
    "# With '' = 100, 158K; With 300 = 160K. Bullseye!\n",
    "y_pred = regressor.predict(6.5) # Level of hire was 6.5"
   ]
  },
  {
   "cell_type": "code",
   "execution_count": 16,
   "metadata": {},
   "outputs": [
    {
     "data": {
      "text/plain": [
       "array([160333.33333333])"
      ]
     },
     "execution_count": 16,
     "metadata": {},
     "output_type": "execute_result"
    }
   ],
   "source": [
    "y_pred"
   ]
  },
  {
   "cell_type": "code",
   "execution_count": null,
   "metadata": {},
   "outputs": [],
   "source": [
    "\"\"\"# Visualizing the Decision Tree Regression model results\n",
    "# This is a TRAP! It's taking the average of each interval. It should\n",
    "# be an average constant. The problem is in our regression template!\n",
    "# It's only plotting the 10 salaries on the 10 levels/increments.\n",
    "# This is a non-continuous regression model.\n",
    "plt.style.use(style = 'ggplot')\n",
    "plt.scatter(x = X, y = y, color = 'red') \n",
    "plt.plot(X, regressor.predict(X), color = 'blue')\n",
    "plt.title(\"Truth or Bluff (Decision Tree Regression Model)\") \n",
    "plt.xlabel(\"Position Level\")\n",
    "plt.ylabel(\"Salary\")\n",
    "plt.show()\"\"\""
   ]
  },
  {
   "cell_type": "code",
   "execution_count": 14,
   "metadata": {},
   "outputs": [
    {
     "data": {
      "image/png": "[encoded data removed]",
      "text/plain": [
       "<Figure size 432x288 with 1 Axes>"
      ]
     },
     "metadata": {},
     "output_type": "display_data"
    }
   ],
   "source": [
    "# Visualizing the Random Forest Regression model results (higher resolution/smoother curve)\n",
    "# Since this is a non-continuous model, technically should have true vertical\n",
    "# lines (steps/ladder), therefore need to make the resolution even higher\n",
    "# by incrementing by an even smaller amount.\n",
    "\n",
    "# Based on the entropy in the information gained, it splits the whole range\n",
    "# of independent variable into different intervals. It takes the avg within\n",
    "# each interval. In this case, we only have a few data points. \n",
    "X_grid = np.arange(min(X), max(X), step = 0.01)\n",
    "X_grid = X_grid.reshape(len(X_grid), 1)\n",
    "plt.style.use(style = 'ggplot')\n",
    "plt.scatter(x = X, y = y, color = 'red') \n",
    "plt.plot(X_grid, regressor.predict(X_grid), color = 'blue')\n",
    "plt.title(\"Truth or Bluff (Random Forest Regression Model - HiRes)\") \n",
    "plt.xlabel(\"Position Level\")\n",
    "plt.ylabel(\"Salary\")\n",
    "plt.show()"
   ]
  },
  {
   "cell_type": "markdown",
   "metadata": {},
   "source": [
    "## Detailed description of how Random Forest works\n",
    "\n",
    "Example: Take level = 4. 10 votes were made each tree. Each vote corresponds to a prediction of the level 4 salary made by each tree. Then the random forest takes the average of all the level 4 predictions (10 total), and this average is nothing else than the prediction of the level 4 salary made by the random forest itself. And so we get more steps because the whole range of levels is split into more intervals and that is because the random forest is calculating many different averages of its decision tree predictions in each of these intervals. \n",
    "\n",
    "**Important** to note: If we add more trees to our random forest, it does **not** mean that we get more steps. The more you add trees, the more the average of these votes will converge to some certain average (convergence). Perhaps though, the steps were better chosen so it could impact the prediction (with 10, y_pred = 167K, with 100, y_pred = 158K, with 300, y_pred = 160K!). Remember the hire said he made 160K."
   ]
  },
  {
   "cell_type": "code",
   "execution_count": null,
   "metadata": {},
   "outputs": [],
   "source": []
  }
 ],
 "metadata": {
  "kernelspec": {
   "display_name": "Python 3",
   "language": "python",
   "name": "python3"
  },
  "language_info": {
   "codemirror_mode": {
    "name": "ipython",
    "version": 3
   },
   "file_extension": ".py",
   "mimetype": "text/x-python",
   "name": "python",
   "nbconvert_exporter": "python",
   "pygments_lexer": "ipython3",
   "version": "3.6.6"
  }
 },
 "nbformat": 4,
 "nbformat_minor": 2
}
