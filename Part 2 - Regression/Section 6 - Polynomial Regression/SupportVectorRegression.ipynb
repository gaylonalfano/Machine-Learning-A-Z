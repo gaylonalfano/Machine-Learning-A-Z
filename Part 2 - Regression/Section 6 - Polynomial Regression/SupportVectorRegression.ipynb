{
 "cells": [
  {
   "cell_type": "markdown",
   "metadata": {},
   "source": [
    "## Support Vector Regression (SVR)\n",
    "By default, the SVR class doesn't include feature scaling. "
   ]
  },
  {
   "cell_type": "code",
   "execution_count": 1,
   "metadata": {},
   "outputs": [],
   "source": [
    "# Importing the libraries\n",
    "import numpy as np\n",
    "import pandas as pd\n",
    "import matplotlib.pyplot as plt"
   ]
  },
  {
   "cell_type": "code",
   "execution_count": 2,
   "metadata": {},
   "outputs": [],
   "source": [
    "# Importing the dataset\n",
    "# Handy tip: X must be a DF/Matrix, not a Series/Vector\n",
    "# Therefore use .iloc[:, 1:2] instead of [:, 1]\n",
    "dataset = pd.read_csv(\"Position_Salaries.csv\")\n",
    "X = dataset.iloc[:, 1:2].values\n",
    "y = dataset.iloc[:, -1].values"
   ]
  },
  {
   "cell_type": "code",
   "execution_count": 3,
   "metadata": {},
   "outputs": [
    {
     "data": {
      "text/plain": [
       "'from sklearn.model_selection import train_test_split\\nX_train, X_test, y_train, y_test = train_test_split(X, y, test_size = 0.2, random_state = 0)'"
      ]
     },
     "execution_count": 3,
     "metadata": {},
     "output_type": "execute_result"
    }
   ],
   "source": [
    "# Splitting the dataset ino the Training set and Test set\n",
    "\"\"\"from sklearn.model_selection import train_test_split\n",
    "X_train, X_test, y_train, y_test = train_test_split(X, y, test_size = 0.2, random_state = 0)\"\"\""
   ]
  },
  {
   "cell_type": "code",
   "execution_count": 4,
   "metadata": {},
   "outputs": [
    {
     "name": "stderr",
     "output_type": "stream",
     "text": [
      "/Users/gaylonalfano/anaconda3/lib/python3.6/site-packages/sklearn/utils/validation.py:475: DataConversionWarning: Data with input dtype int64 was converted to float64 by StandardScaler.\n",
      "  warnings.warn(msg, DataConversionWarning)\n"
     ]
    }
   ],
   "source": [
    "# Feature Scaling - SVR doesn't apply/include feature scaling\n",
    "# Since we're not creating any training/test sets, need to replace\n",
    "# X_train, X_test, y_train, etc. with X and y\n",
    "# Going to scale X and y by applying the fit_transform objects (sc_X, sc_y) \n",
    "\n",
    "# Note: need to create two StandardScaler objects for both X and y\n",
    "# Going to fit these objects to two different matrices. \n",
    "# Will also do some transforming as well. This transform tool will\n",
    "# scale X and y.\n",
    "from sklearn.preprocessing import StandardScaler\n",
    "sc_X = StandardScaler()\n",
    "sc_y = StandardScaler()\n",
    "X = sc_X.fit_transform(X) \n",
    "'''X_test = sc_X.transform(X_test)'''\n",
    "y = sc_y.fit_transform(y.reshape(len(y), 1)) # fit_transform expects a matrix, not vector"
   ]
  },
  {
   "cell_type": "code",
   "execution_count": 5,
   "metadata": {},
   "outputs": [
    {
     "data": {
      "text/plain": [
       "array([[-1.5666989 ],\n",
       "       [-1.21854359],\n",
       "       [-0.87038828],\n",
       "       [-0.52223297],\n",
       "       [-0.17407766],\n",
       "       [ 0.17407766],\n",
       "       [ 0.52223297],\n",
       "       [ 0.87038828],\n",
       "       [ 1.21854359],\n",
       "       [ 1.5666989 ]])"
      ]
     },
     "execution_count": 5,
     "metadata": {},
     "output_type": "execute_result"
    }
   ],
   "source": [
    "X"
   ]
  },
  {
   "cell_type": "code",
   "execution_count": 6,
   "metadata": {},
   "outputs": [
    {
     "data": {
      "text/plain": [
       "array([[-0.72004253],\n",
       "       [-0.70243757],\n",
       "       [-0.66722767],\n",
       "       [-0.59680786],\n",
       "       [-0.49117815],\n",
       "       [-0.35033854],\n",
       "       [-0.17428902],\n",
       "       [ 0.17781001],\n",
       "       [ 0.88200808],\n",
       "       [ 2.64250325]])"
      ]
     },
     "execution_count": 6,
     "metadata": {},
     "output_type": "execute_result"
    }
   ],
   "source": [
    "y"
   ]
  },
  {
   "cell_type": "code",
   "execution_count": 7,
   "metadata": {},
   "outputs": [
    {
     "name": "stderr",
     "output_type": "stream",
     "text": [
      "/Users/gaylonalfano/anaconda3/lib/python3.6/site-packages/sklearn/utils/validation.py:578: DataConversionWarning: A column-vector y was passed when a 1d array was expected. Please change the shape of y to (n_samples, ), for example using ravel().\n",
      "  y = column_or_1d(y, warn=True)\n"
     ]
    },
    {
     "data": {
      "text/plain": [
       "SVR(C=1.0, cache_size=200, coef0=0.0, degree=3, epsilon=0.1, gamma='auto',\n",
       "  kernel='rbf', max_iter=-1, shrinking=True, tol=0.001, verbose=False)"
      ]
     },
     "execution_count": 7,
     "metadata": {},
     "output_type": "execute_result"
    }
   ],
   "source": [
    "# Fitting the SVR model to the dataset\n",
    "from sklearn.svm import SVR\n",
    "# Params for SVR: Kernel - want a linear SVR, polynomial SVR, \n",
    "# Default kernel is 'rbf' for non-linear. Gautian kernel?\n",
    "regressor = SVR(kernel = 'rbf')\n",
    "regressor.fit(X, y)"
   ]
  },
  {
   "cell_type": "markdown",
   "metadata": {},
   "source": [
    "## IMPORTANT for correctly using regressor.predict AFTER applying feature scaling\n",
    "\n",
    "Predicting the results. Got rid of the LR objects (lin_reg, poly_reg, etc.).\n",
    "\n",
    "Without applying feature scaling, this y_pred comes out to ~130K\n",
    "However, after applying feature scaling, we actually scaled X and y\n",
    "and both X and y were transformed. But we never technically scaled 6.5. Therefore, have a couple more steps to do before we can get updated .predict w/ feature scaling:\n",
    "\n",
    "1. Transform 6.5. Apply sc_X object to 6.5 so it can be suited to regressor. Don't use fit_transform since the sc_X object is already fitted to our matrix of features X. Just need .transform method.\n",
    "2. Need to check arguments of .transform method. .transform requires an ARRAY. Need to transform 6.5 to array usingnp.array([[6.5]]). Note: [[]] = array; [] = vector. \n",
    "3. Use .inverse_transform to get original scale of salary. We don't want predictions of 0.3 salary. Need to inverse the scale transformation. Apply the inverse_transform method on the StandardScaler object of the dependent variable y (since we're predicting salary). y_pred = sc_y.inverse_transform(regressor.predict(sc_X.transform([[6.5]])))\n",
    "\n"
   ]
  },
  {
   "cell_type": "code",
   "execution_count": 8,
   "metadata": {},
   "outputs": [],
   "source": [
    "# Predicting the results. Got rid of the LR objects (lin_reg, poly_reg, etc.)\n",
    "# Without applying feature scaling, this y_pred comes out to ~130K\n",
    "# However, after applying feature scaling, we actually scaled X and y\n",
    "# and both X and y were transformed. But we never technically scaled 6.5. \n",
    "# Therefore, have a couple more steps to do before we can get updated \n",
    "# .predict w/ feature scaling\n",
    "\n",
    "# Transform 6.5. Apply sc_X object to 6.5 so it can be suited to regressor\n",
    "# Don't use fit_transform since the sc_X object is already fitted\n",
    "# to our matrix of features X. Just need .transform method.\n",
    "# **IMPORTANT** Need to check arguments of .transform method. \n",
    "# .transform requires an ARRAY. Need to transform 6.5 to array using\n",
    "# np.array([[6.5]]). Note: np.array([[6.5]]) = array; np.array([6.5]) = vector. Now 6.5 is\n",
    "# transformed to fit the regressor.\n",
    "\n",
    "\n",
    "# Last, apply .inverse_transform to sc_y (see above notes)\n",
    "y_pred = sc_y.inverse_transform(regressor.predict(sc_X.transform(np.array([[6.5]])))) # Level of hire was 6.5"
   ]
  },
  {
   "cell_type": "code",
   "execution_count": 9,
   "metadata": {},
   "outputs": [
    {
     "data": {
      "text/plain": [
       "(1, 1)"
      ]
     },
     "execution_count": 9,
     "metadata": {},
     "output_type": "execute_result"
    }
   ],
   "source": [
    "np.array([[6.5]]).shape"
   ]
  },
  {
   "cell_type": "code",
   "execution_count": 10,
   "metadata": {},
   "outputs": [
    {
     "data": {
      "text/plain": [
       "array([170370.0204065])"
      ]
     },
     "execution_count": 10,
     "metadata": {},
     "output_type": "execute_result"
    }
   ],
   "source": [
    "# This comes out to 130000 when w/o feature scaling.\n",
    "# Now with feature scaling, y_pred is ~170k\n",
    "y_pred"
   ]
  },
  {
   "cell_type": "code",
   "execution_count": 15,
   "metadata": {},
   "outputs": [
    {
     "data": {
      "image/png": "[encoded data removed]",
      "text/plain": [
       "<Figure size 432x288 with 1 Axes>"
      ]
     },
     "metadata": {},
     "output_type": "display_data"
    }
   ],
   "source": [
    "# Visualizing the SVR model results\n",
    "plt.style.use(style = 'ggplot')\n",
    "plt.scatter(x = X, y = y, color = 'red') \n",
    "plt.plot(X, regressor.predict(X), color = 'blue')\n",
    "plt.title(\"Truth or Bluff (SVR Model)\") \n",
    "plt.xlabel(\"Position Level\")\n",
    "plt.ylabel(\"Salary\")\n",
    "plt.show()"
   ]
  },
  {
   "cell_type": "code",
   "execution_count": 14,
   "metadata": {},
   "outputs": [
    {
     "data": {
      "image/png": "[encoded data removed]",
      "text/plain": [
       "<Figure size 432x288 with 1 Axes>"
      ]
     },
     "metadata": {},
     "output_type": "display_data"
    }
   ],
   "source": [
    "# Visualizing the SVR model results (higher resolution/smoother curve)\n",
    "X_grid = np.arange(min(X), max(X), 0.1)\n",
    "X_grid = X_grid.reshape(len(X_grid), 1)\n",
    "plt.style.use(style = 'ggplot')\n",
    "plt.scatter(x = X, y = y, color = 'red') \n",
    "plt.plot(X_grid, regressor.predict(X_grid), color = 'blue')\n",
    "plt.title(\"Truth or Bluff (SVR Model - HiRes)\") \n",
    "plt.xlabel(\"Position Level\")\n",
    "plt.ylabel(\"Salary\")\n",
    "plt.show()"
   ]
  },
  {
   "cell_type": "code",
   "execution_count": null,
   "metadata": {},
   "outputs": [],
   "source": []
  }
 ],
 "metadata": {
  "kernelspec": {
   "display_name": "Python 3",
   "language": "python",
   "name": "python3"
  },
  "language_info": {
   "codemirror_mode": {
    "name": "ipython",
    "version": 3
   },
   "file_extension": ".py",
   "mimetype": "text/x-python",
   "name": "python",
   "nbconvert_exporter": "python",
   "pygments_lexer": "ipython3",
   "version": "3.6.4"
  }
 },
 "nbformat": 4,
 "nbformat_minor": 2
}
