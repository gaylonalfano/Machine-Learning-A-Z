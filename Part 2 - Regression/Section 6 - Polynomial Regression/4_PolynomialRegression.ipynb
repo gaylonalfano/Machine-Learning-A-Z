{
 "cells": [
  {
   "cell_type": "markdown",
   "metadata": {},
   "source": [
    "## Polynomial Regression\n",
    "Example scenario: HR team about to hire a new employee so need to negotiate future salary for this new hire. He says he made 160K at his old job. Only get this dataset/table of salaries, so HR wants to create a bluffing detector to run a model to predict whether this potential hire actually made 160K at previous job.\n",
    "\n",
    "The machine is the polynomial regression. This machine is going to learn the correlation between the levels and salaries to predict if the hire is bluffing about his salary. "
   ]
  },
  {
   "cell_type": "markdown",
   "metadata": {},
   "source": [
    "## Data pre-processing template\n",
    "\n",
    "Here's the data preprocessing template we came up with:\n",
    "\n",
    "### Importing the libraries\n",
    "import numpy as np\n",
    "import matplotlib.pyplot as plt\n",
    "import pandas as pd\n",
    "\n",
    "### Importing the dataset\n",
    "**Note** You must use .values to convert to nparray\n",
    "dataset = pd.read_csv(\"Data.csv\")\n",
    "X = dataset.iloc[:, :-1].values\n",
    "y = datset.iloc[:, 3].values\n",
    "**Note** the .shape of X, even if single column, should be (n, 1) not (n,). The .shape of y needs to be (n,).\n",
    "\n",
    "### Taking care of missing data\n",
    "from sklearn.preprocessing import Imputer\n",
    "imputer = Imputer(missing_values = \"NaN\", strategy = \"mean\", axis = 0)\n",
    "imputer = imputer.fit(X[:, 1:3])\n",
    "X[:, 1:3] = imputer.transform(X[:, 1:3])\n",
    "\n",
    "### Encoding categorical data\n",
    "from sklearn.preprocessing import LabelEncoder, OneHotEncoder\n",
    "labelencoder_X = LabelEncoder()\n",
    "X[:, 0] = labelencoder_X.fit_transform(X[:, 0])\n",
    "onehotencoder = OneHotEncoder(categorical_features = [0])\n",
    "X = onehotencoder.fit_transform(X).toarray()\n",
    "labelencoder_y = LabelEncoder()\n",
    "y = labelencoder_y.fit_transform(y)\n",
    "\n",
    "### Splitting the dataset into the Training and Test sets\n",
    "from sklearn.model_selection import train_test_split\n",
    "X_train, X_test, y_train, y_test = train_test_split(X, y, test_size = 0.2, random_state = 0)\n",
    "\n",
    "### Feature scaling\n",
    "from sklearn.preprocessing import StandardScaler\n",
    "sc_X = StandardScaler()\n",
    "X_train = sc_X.fit_transform(X_train)\n",
    "X_test = sc_X.transform(X_test)\"\"\""
   ]
  },
  {
   "cell_type": "markdown",
   "metadata": {},
   "source": [
    "## Polynomial Regression - Step 1"
   ]
  },
  {
   "cell_type": "code",
   "execution_count": 3,
   "metadata": {},
   "outputs": [],
   "source": [
    "# Importing the libraries\n",
    "import numpy as np\n",
    "import pandas as pd\n",
    "import matplotlib.pyplot as plt\n",
    "\n",
    "# Importing the dataset\n",
    "# Handy tip: X must be a DF/Matrix, not a Series/Vector\n",
    "# Therefore use .iloc[:, 1:2] instead of [:, 1]\n",
    "dataset = pd.read_csv(\"Position_Salaries.csv\")\n",
    "X = dataset.iloc[:, 1:2].values\n",
    "y = dataset.iloc[:, -1].values\n",
    "\n",
    "# Splitting the dataset ino the Training set and Test set\n",
    "# **In this case, the dataset is too small to require splitting\n",
    "# the dataset. We need it to make the most accurate prediction,\n",
    "# so it's better to use the whole dataset to train the ML model\n",
    "\n",
    "# Feature Scaling -- NOT needed this time\n",
    "# Polynomial regression just consists of adding PNR terms\n",
    "# into the MLR equation, so we will use the same LinearRegression\n",
    "# library that we used for SLR and MLR, which is the library\n",
    "# that does feature scaling itself, so not needed.\n",
    "# Ready to move on to the next step."
   ]
  },
  {
   "cell_type": "markdown",
   "metadata": {},
   "source": [
    "## Polynomial Regression - Step 2\n",
    "We're goig to build a linear regression model and we're going to create polynomial regression model using the polynomial features class (from sklearn.preprocessing import PolynomialFeatures) and fit it to the dataset. Why?\n",
    "\n",
    "Because we want to use the simple linear regression model as something to compare against our polynomial regression results"
   ]
  },
  {
   "cell_type": "code",
   "execution_count": 4,
   "metadata": {},
   "outputs": [
    {
     "data": {
      "text/plain": [
       "LinearRegression(copy_X=True, fit_intercept=True, n_jobs=1, normalize=False)"
      ]
     },
     "execution_count": 4,
     "metadata": {},
     "output_type": "execute_result"
    }
   ],
   "source": [
    "# Creating a simple linear regression model and fitting\n",
    "# linear regression to the dataset\n",
    "from sklearn.linear_model import LinearRegression\n",
    "lin_reg = LinearRegression()\n",
    "lin_reg.fit(X, y)"
   ]
  },
  {
   "cell_type": "code",
   "execution_count": 21,
   "metadata": {},
   "outputs": [],
   "source": [
    "# Now time to build the polynomial regression model\n",
    "from sklearn.preprocessing import PolynomialFeatures\n",
    "\n",
    "# Next need to create an object of this Polynomial Features Class\n",
    "# This object is going to be a transformer tool that will\n",
    "# transform our matrix of features (X) into a new matrix of \n",
    "# features (X_poly) containing X1 and X1^2, X1^3, etc. to whatever\n",
    "# we want and the same independent variable to the n power.\n",
    "\n",
    "poly_reg = PolynomialFeatures(degree = 4) \n",
    "# degree = n will add the exponential column. This degree influences\n",
    "# the accuracy of the predictions\n",
    "\n",
    "# the poly_reg tool will add additional polynomial terms to X\n",
    "# Need to use .fit_transform - first .fit it to X and then\n",
    "# .transform it into X_poly.\n",
    "# **This poly_reg tool also automatically adds a beta_0 constant\n",
    "X_poly = poly_reg.fit_transform(X)"
   ]
  },
  {
   "cell_type": "code",
   "execution_count": 22,
   "metadata": {},
   "outputs": [
    {
     "data": {
      "text/plain": [
       "array([[1.000e+00, 1.000e+00, 1.000e+00, 1.000e+00, 1.000e+00],\n",
       "       [1.000e+00, 2.000e+00, 4.000e+00, 8.000e+00, 1.600e+01],\n",
       "       [1.000e+00, 3.000e+00, 9.000e+00, 2.700e+01, 8.100e+01],\n",
       "       [1.000e+00, 4.000e+00, 1.600e+01, 6.400e+01, 2.560e+02],\n",
       "       [1.000e+00, 5.000e+00, 2.500e+01, 1.250e+02, 6.250e+02],\n",
       "       [1.000e+00, 6.000e+00, 3.600e+01, 2.160e+02, 1.296e+03],\n",
       "       [1.000e+00, 7.000e+00, 4.900e+01, 3.430e+02, 2.401e+03],\n",
       "       [1.000e+00, 8.000e+00, 6.400e+01, 5.120e+02, 4.096e+03],\n",
       "       [1.000e+00, 9.000e+00, 8.100e+01, 7.290e+02, 6.561e+03],\n",
       "       [1.000e+00, 1.000e+01, 1.000e+02, 1.000e+03, 1.000e+04]])"
      ]
     },
     "execution_count": 22,
     "metadata": {},
     "output_type": "execute_result"
    }
   ],
   "source": [
    "X_poly"
   ]
  },
  {
   "cell_type": "code",
   "execution_count": 23,
   "metadata": {},
   "outputs": [
    {
     "data": {
      "text/plain": [
       "array([[ 1],\n",
       "       [ 2],\n",
       "       [ 3],\n",
       "       [ 4],\n",
       "       [ 5],\n",
       "       [ 6],\n",
       "       [ 7],\n",
       "       [ 8],\n",
       "       [ 9],\n",
       "       [10]])"
      ]
     },
     "execution_count": 23,
     "metadata": {},
     "output_type": "execute_result"
    }
   ],
   "source": [
    "X"
   ]
  },
  {
   "cell_type": "code",
   "execution_count": 24,
   "metadata": {},
   "outputs": [
    {
     "data": {
      "text/plain": [
       "LinearRegression(copy_X=True, fit_intercept=True, n_jobs=1, normalize=False)"
      ]
     },
     "execution_count": 24,
     "metadata": {},
     "output_type": "execute_result"
    }
   ],
   "source": [
    "# Next, need to include this fit into a MLR model\n",
    "# Need to create a new LR object (lin_reg2) so we can include \n",
    "# this fit we made with our poly_reg object and our X_poly\n",
    "# matrix of features\n",
    "lin_reg_2 = LinearRegression()\n",
    "lin_reg_2.fit(X_poly, y)"
   ]
  },
  {
   "cell_type": "markdown",
   "metadata": {},
   "source": [
    "## Polynomial Regression - Step 3\n",
    "Going to visualize the results of both of these models (SLR and PNR)"
   ]
  },
  {
   "cell_type": "code",
   "execution_count": 11,
   "metadata": {},
   "outputs": [
    {
     "data": {
      "image/png": "[encoded data removed]",
      "text/plain": [
       "<Figure size 432x288 with 1 Axes>"
      ]
     },
     "metadata": {},
     "output_type": "display_data"
    }
   ],
   "source": [
    "# Visualize the Linear Regression results\n",
    "\n",
    "# Plot all true observation points and then compare to\n",
    "# predictions from the models\n",
    "plt.style.use(style = 'ggplot')\n",
    "plt.scatter(x = X, y = y, color = 'red')\n",
    "\n",
    "# Next, plot the predicted salaries from the SLR model\n",
    "# So need to call lin_reg.predict(X) to get predictions\n",
    "plt.plot(X, lin_reg.predict(X), color = 'blue')\n",
    "plt.title(\"Truth or Bluff (Linear Regression)\")\n",
    "plt.xlabel(\"Position Level\")\n",
    "plt.ylabel(\"Salary\")\n",
    "plt.show()"
   ]
  },
  {
   "cell_type": "code",
   "execution_count": 25,
   "metadata": {},
   "outputs": [
    {
     "data": {
      "image/png": "[encoded data removed]",
      "text/plain": [
       "<Figure size 432x288 with 1 Axes>"
      ]
     },
     "metadata": {},
     "output_type": "display_data"
    }
   ],
   "source": [
    "# Clearly need to make a better model that better matches\n",
    "# the actual observations. So need to call \n",
    "# lin_reg_2.predict(X) to get predictions\n",
    "plt.style.use(style = 'ggplot')\n",
    "plt.scatter(x = X, y = y, color = 'red') \n",
    "\n",
    "# Important - lin_reg_2 is actually still a simple LR object\n",
    "# Need to add polynomial features/terms of independent vars \n",
    "# You would think that you simply need to input X_poly\n",
    "# However, X_poly is already defined for an existing matrix \n",
    "# So, instead need to input poly_reg.fit_transform(X).\n",
    "# 'X' could be any existing/new matrix of features. This makes\n",
    "# the model/code more versitile for future/new observations\n",
    "plt.plot(X, lin_reg_2.predict(X = poly_reg.fit_transform(X)), color = 'blue')\n",
    "\n",
    "plt.title(\"Truth or Bluff (Polynomial Regression)\") \n",
    "plt.xlabel(\"Position Level\")\n",
    "plt.ylabel(\"Salary\")\n",
    "plt.show()"
   ]
  },
  {
   "cell_type": "markdown",
   "metadata": {},
   "source": [
    "#### How to make it perform better? Add a degree to the PNR model!\n",
    "Change poly_reg from degree = 2 to degree = 3 (or 4, etc.). If you want even better accuracy, you can change the x-axis increments from 1 to like 0.1. To do that, create a new var called X_grid = np.arange(min(X), max(X), 0.1). This returns a vector but we need it to be a matrix. Therefore, need to use the .reshape() function to reshape X_grid into a matrix where the number of lines is equal to the number of elements of X_grid (len(X_grid) and the number of columns (1). See below code.\n",
    "\n",
    "X_grid will contain all the Levels (1-10) plus all the incremental steps between each level as defined by step = 0.1."
   ]
  },
  {
   "cell_type": "code",
   "execution_count": 33,
   "metadata": {},
   "outputs": [
    {
     "data": {
      "image/png": "[encoded data removed]",
      "text/plain": [
       "<Figure size 432x288 with 1 Axes>"
      ]
     },
     "metadata": {},
     "output_type": "display_data"
    }
   ],
   "source": [
    "# Clearly need to make a better model that better matches\n",
    "# the actual observations. So need to call \n",
    "# lin_reg_2.predict(X) to get predictions\n",
    "plt.style.use(style = 'ggplot')\n",
    "\n",
    "# See \"HOw to make it perform better?\" for X_grid\n",
    "X_grid = np.arange(start = min(X), stop = max(X), step = 0.1)\n",
    "X_grid = X_grid.reshape((len(X_grid), 1)) # needs to be tuple\n",
    "plt.scatter(x = X, y = y, color = 'red') \n",
    "\n",
    "# Important - lin_reg_2 is actually still a simple LR object\n",
    "# Need to add polynomial features/terms of independent vars \n",
    "# You would think that you simply need to input X_poly\n",
    "# However, X_poly is already defined for an existing matrix \n",
    "# So, instead need to input poly_reg.fit_transform(X).\n",
    "# 'X' could be any existing/new matrix of features. This makes\n",
    "# the model/code more versitile for future/new observations\n",
    "\n",
    "# Need to replace X with X_grid so that it will predict all salaries\n",
    "# for the imaginary 90 levels (1,1.1,1.2, etc.).\n",
    "plt.plot(X_grid, lin_reg_2.predict(X = poly_reg.fit_transform(X_grid)), color = 'blue')\n",
    "plt.title(\"Truth or Bluff (Polynomial Regression)\") \n",
    "plt.xlabel(\"Position Level\")\n",
    "plt.ylabel(\"Salary\")\n",
    "plt.show()"
   ]
  },
  {
   "cell_type": "markdown",
   "metadata": {},
   "source": [
    "## Polynomial Regression - Step 4\n",
    "Now we need to predict the salary of the potential hire based on a Level = 6.5 to determine whether 160,000 is a bluff or not.\n",
    "\n",
    "Steps:\n",
    "1. Predict the result using the Linear Regression\n",
    "2. Predict the result using the Polynomial Regression"
   ]
  },
  {
   "cell_type": "code",
   "execution_count": 38,
   "metadata": {},
   "outputs": [
    {
     "data": {
      "text/plain": [
       "array([330378.78787879])"
      ]
     },
     "execution_count": 38,
     "metadata": {},
     "output_type": "execute_result"
    }
   ],
   "source": [
    "# Predict the result using Linear Regression\n",
    "lin_reg.predict(6.5)"
   ]
  },
  {
   "cell_type": "code",
   "execution_count": 39,
   "metadata": {},
   "outputs": [
    {
     "data": {
      "text/plain": [
       "array([158862.45265153])"
      ]
     },
     "execution_count": 39,
     "metadata": {},
     "output_type": "execute_result"
    }
   ],
   "source": [
    "# Predict the result using the Polynomial Regression\n",
    "lin_reg_2.predict(poly_reg.fit_transform(6.5))"
   ]
  },
  {
   "cell_type": "code",
   "execution_count": null,
   "metadata": {},
   "outputs": [],
   "source": []
  }
 ],
 "metadata": {
  "kernelspec": {
   "display_name": "Python 3",
   "language": "python",
   "name": "python3"
  },
  "language_info": {
   "codemirror_mode": {
    "name": "ipython",
    "version": 3
   },
   "file_extension": ".py",
   "mimetype": "text/x-python",
   "name": "python",
   "nbconvert_exporter": "python",
   "pygments_lexer": "ipython3",
   "version": "3.6.6"
  }
 },
 "nbformat": 4,
 "nbformat_minor": 2
}
